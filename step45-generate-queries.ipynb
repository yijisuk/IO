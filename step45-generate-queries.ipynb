{
 "cells": [
  {
   "cell_type": "code",
   "execution_count": 12,
   "metadata": {},
   "outputs": [],
   "source": [
    "OPENAI_API_KEY = \"OPENAI-API-KEY\""
   ]
  },
  {
   "cell_type": "code",
   "execution_count": 13,
   "metadata": {},
   "outputs": [],
   "source": [
    "PINECONE_API_KEY = \"PINECONE-API-KEY\"\n",
    "PINECONE_ENV = \"PINECONE-ENV\"\n",
    "PINECONE_INDEX = \"PINECONE-INDEX\""
   ]
  },
  {
   "cell_type": "code",
   "execution_count": 14,
   "metadata": {},
   "outputs": [],
   "source": [
    "from langchain.text_splitter import RecursiveCharacterTextSplitter"
   ]
  },
  {
   "cell_type": "code",
   "execution_count": 15,
   "metadata": {},
   "outputs": [
    {
     "name": "stdout",
     "output_type": "stream",
     "text": [
      "You have 1 document\n"
     ]
    }
   ],
   "source": [
    "# This is a long document we can split up.\n",
    "with open('data/guidetoinvestors.txt') as f:\n",
    "    pg_work = f.read()\n",
    "    \n",
    "print (f\"You have {len([pg_work])} document\")"
   ]
  },
  {
   "cell_type": "code",
   "execution_count": 16,
   "metadata": {},
   "outputs": [
    {
     "data": {
      "text/html": [
       "<div>\n",
       "<style scoped>\n",
       "    .dataframe tbody tr th:only-of-type {\n",
       "        vertical-align: middle;\n",
       "    }\n",
       "\n",
       "    .dataframe tbody tr th {\n",
       "        vertical-align: top;\n",
       "    }\n",
       "\n",
       "    .dataframe thead th {\n",
       "        text-align: right;\n",
       "    }\n",
       "</style>\n",
       "<table border=\"1\" class=\"dataframe\">\n",
       "  <thead>\n",
       "    <tr style=\"text-align: right;\">\n",
       "      <th></th>\n",
       "      <th>text</th>\n",
       "      <th>n_tokens</th>\n",
       "    </tr>\n",
       "  </thead>\n",
       "  <tbody>\n",
       "    <tr>\n",
       "      <th>0</th>\n",
       "      <td>April 2007(This essay is derived from a keynot...</td>\n",
       "      <td>443</td>\n",
       "    </tr>\n",
       "    <tr>\n",
       "      <th>1</th>\n",
       "      <td>companies that raise series A rounds have take...</td>\n",
       "      <td>453</td>\n",
       "    </tr>\n",
       "    <tr>\n",
       "      <th>2</th>\n",
       "      <td>and (c) they invest at a point where the strea...</td>\n",
       "      <td>473</td>\n",
       "    </tr>\n",
       "    <tr>\n",
       "      <th>3</th>\n",
       "      <td>at something and predict whether it will take ...</td>\n",
       "      <td>467</td>\n",
       "    </tr>\n",
       "    <tr>\n",
       "      <th>4</th>\n",
       "      <td>companies, most of which fail, and one of whic...</td>\n",
       "      <td>463</td>\n",
       "    </tr>\n",
       "  </tbody>\n",
       "</table>\n",
       "</div>"
      ],
      "text/plain": [
       "                                                text  n_tokens\n",
       "0  April 2007(This essay is derived from a keynot...       443\n",
       "1  companies that raise series A rounds have take...       453\n",
       "2  and (c) they invest at a point where the strea...       473\n",
       "3  at something and predict whether it will take ...       467\n",
       "4  companies, most of which fail, and one of whic...       463"
      ]
     },
     "execution_count": 16,
     "metadata": {},
     "output_type": "execute_result"
    }
   ],
   "source": [
    "import pandas as pd\n",
    "import tiktoken\n",
    "\n",
    "tokenizer = tiktoken.get_encoding(\"cl100k_base\")\n",
    "tokenizer = tiktoken.encoding_for_model(\"gpt-4\")\n",
    "\n",
    "demo_df = pd.DataFrame(\n",
    "    {\n",
    "        'text': [pg_work],\n",
    "        'n_tokens': [len(tokenizer.encode(pg_work))]\n",
    "    }\n",
    ")\n",
    "\n",
    "text_splitter = RecursiveCharacterTextSplitter(chunk_size=2000, chunk_overlap=0)\n",
    "texts = text_splitter.split_text(pg_work)\n",
    "\n",
    "demo_df_splitted = pd.DataFrame(\n",
    "    {\n",
    "        'text': texts,\n",
    "        'n_tokens': [len(tokenizer.encode(text)) for text in texts]\n",
    "    }\n",
    ")\n",
    "\n",
    "demo_df_splitted.head()"
   ]
  },
  {
   "cell_type": "code",
   "execution_count": 17,
   "metadata": {},
   "outputs": [
    {
     "name": "stderr",
     "output_type": "stream",
     "text": [
      "c:\\Users\\offco\\.conda\\envs\\langchain-tut\\Lib\\site-packages\\pinecone\\index.py:4: TqdmWarning: IProgress not found. Please update jupyter and ipywidgets. See https://ipywidgets.readthedocs.io/en/stable/user_install.html\n",
      "  from tqdm.autonotebook import tqdm\n"
     ]
    }
   ],
   "source": [
    "import openai\n",
    "import pinecone\n",
    "from langchain.document_loaders import TextLoader\n",
    "\n",
    "pinecone.init(api_key=PINECONE_API_KEY, environment=PINECONE_ENV)\n",
    "\n",
    "if PINECONE_INDEX not in pinecone.list_indexes():\n",
    "    pinecone.create_index(PINECONE_INDEX, dimension=1536, metric=\"cosine\")\n",
    "\n",
    "index = pinecone.Index(\"demo-index\")\n",
    "\n",
    "openai.api_key = OPENAI_API_KEY\n",
    "demo_df_splitted['embeddings'] = demo_df_splitted.text.apply(lambda x: openai.Embedding.create(input=x, engine='text-embedding-ada-002')['data'][0]['embedding'])"
   ]
  },
  {
   "cell_type": "code",
   "execution_count": 18,
   "metadata": {},
   "outputs": [
    {
     "data": {
      "text/html": [
       "<div>\n",
       "<style scoped>\n",
       "    .dataframe tbody tr th:only-of-type {\n",
       "        vertical-align: middle;\n",
       "    }\n",
       "\n",
       "    .dataframe tbody tr th {\n",
       "        vertical-align: top;\n",
       "    }\n",
       "\n",
       "    .dataframe thead th {\n",
       "        text-align: right;\n",
       "    }\n",
       "</style>\n",
       "<table border=\"1\" class=\"dataframe\">\n",
       "  <thead>\n",
       "    <tr style=\"text-align: right;\">\n",
       "      <th></th>\n",
       "      <th>id</th>\n",
       "      <th>text</th>\n",
       "      <th>embeddings</th>\n",
       "      <th>n_tokens</th>\n",
       "    </tr>\n",
       "  </thead>\n",
       "  <tbody>\n",
       "    <tr>\n",
       "      <th>0</th>\n",
       "      <td>56f3f3cc-db56-46da-bfeb-e53556b64187</td>\n",
       "      <td>April 2007(This essay is derived from a keynot...</td>\n",
       "      <td>[0.028928915038704872, -0.020220162346959114, ...</td>\n",
       "      <td>443</td>\n",
       "    </tr>\n",
       "    <tr>\n",
       "      <th>1</th>\n",
       "      <td>0082afa0-c5d2-44a3-bf90-163e78866604</td>\n",
       "      <td>companies that raise series A rounds have take...</td>\n",
       "      <td>[0.01580376923084259, -0.0337928831577301, 0.0...</td>\n",
       "      <td>453</td>\n",
       "    </tr>\n",
       "    <tr>\n",
       "      <th>2</th>\n",
       "      <td>46c00591-d2b2-423b-88fa-58f03f8014c0</td>\n",
       "      <td>and (c) they invest at a point where the strea...</td>\n",
       "      <td>[0.006701738107949495, -0.030748752877116203, ...</td>\n",
       "      <td>473</td>\n",
       "    </tr>\n",
       "    <tr>\n",
       "      <th>3</th>\n",
       "      <td>be263646-990c-4d15-be59-ea021961bbaf</td>\n",
       "      <td>at something and predict whether it will take ...</td>\n",
       "      <td>[-0.010839071124792099, -0.018601154908537865,...</td>\n",
       "      <td>467</td>\n",
       "    </tr>\n",
       "    <tr>\n",
       "      <th>4</th>\n",
       "      <td>ee98b173-7200-4bd7-b9a7-f9a4440fe348</td>\n",
       "      <td>companies, most of which fail, and one of whic...</td>\n",
       "      <td>[0.008925837464630604, -0.023426974192261696, ...</td>\n",
       "      <td>463</td>\n",
       "    </tr>\n",
       "  </tbody>\n",
       "</table>\n",
       "</div>"
      ],
      "text/plain": [
       "                                     id   \n",
       "0  56f3f3cc-db56-46da-bfeb-e53556b64187  \\\n",
       "1  0082afa0-c5d2-44a3-bf90-163e78866604   \n",
       "2  46c00591-d2b2-423b-88fa-58f03f8014c0   \n",
       "3  be263646-990c-4d15-be59-ea021961bbaf   \n",
       "4  ee98b173-7200-4bd7-b9a7-f9a4440fe348   \n",
       "\n",
       "                                                text   \n",
       "0  April 2007(This essay is derived from a keynot...  \\\n",
       "1  companies that raise series A rounds have take...   \n",
       "2  and (c) they invest at a point where the strea...   \n",
       "3  at something and predict whether it will take ...   \n",
       "4  companies, most of which fail, and one of whic...   \n",
       "\n",
       "                                          embeddings  n_tokens  \n",
       "0  [0.028928915038704872, -0.020220162346959114, ...       443  \n",
       "1  [0.01580376923084259, -0.0337928831577301, 0.0...       453  \n",
       "2  [0.006701738107949495, -0.030748752877116203, ...       473  \n",
       "3  [-0.010839071124792099, -0.018601154908537865,...       467  \n",
       "4  [0.008925837464630604, -0.023426974192261696, ...       463  "
      ]
     },
     "execution_count": 18,
     "metadata": {},
     "output_type": "execute_result"
    }
   ],
   "source": [
    "from uuid import uuid4\n",
    "\n",
    "df = demo_df_splitted.copy()\n",
    "df['id'] = [str(uuid4()) for _ in range(len(df))]\n",
    "df = df[['id', 'text', 'embeddings', 'n_tokens']]\n",
    "df.head()"
   ]
  },
  {
   "cell_type": "code",
   "execution_count": 19,
   "metadata": {},
   "outputs": [],
   "source": [
    "from langchain.vectorstores import Pinecone\n",
    "from langchain.embeddings.openai import OpenAIEmbeddings\n",
    "\n",
    "embeddings = OpenAIEmbeddings(openai_api_key=OPENAI_API_KEY)\n",
    "retriever = Pinecone.from_texts([t for t in df.text], embeddings, index_name=\"demo-index\")"
   ]
  },
  {
   "cell_type": "code",
   "execution_count": 20,
   "metadata": {},
   "outputs": [
    {
     "name": "stderr",
     "output_type": "stream",
     "text": [
      "c:\\Users\\offco\\.conda\\envs\\langchain-tut\\Lib\\site-packages\\langchain\\llms\\openai.py:169: UserWarning: You are trying to use a chat model. This way of initializing it is no longer supported. Instead, please use: `from langchain.chat_models import ChatOpenAI`\n",
      "  warnings.warn(\n",
      "c:\\Users\\offco\\.conda\\envs\\langchain-tut\\Lib\\site-packages\\langchain\\llms\\openai.py:696: UserWarning: You are trying to use a chat model. This way of initializing it is no longer supported. Instead, please use: `from langchain.chat_models import ChatOpenAI`\n",
      "  warnings.warn(\n"
     ]
    }
   ],
   "source": [
    "from langchain.llms import OpenAI\n",
    "from langchain.chains import LLMChain\n",
    "from langchain.prompts import PromptTemplate\n",
    "\n",
    "from langchain.agents import initialize_agent\n",
    "from langchain.agents import AgentType\n",
    "\n",
    "from langchain.llms import OpenAI\n",
    "\n",
    "keywords = ['angel investors', 'startup hub', 'Silicon Valley',\n",
    "    'venture capitalists', 'Google', 'momentum investors', 'stock']\n",
    "OPENAI_MODELS = [\"gpt-4\", \"gpt-3.5-turbo\"]\n",
    "\n",
    "llm = OpenAI(temperature=0, model_name=OPENAI_MODELS[0], openai_api_key=OPENAI_API_KEY)"
   ]
  },
  {
   "cell_type": "code",
   "execution_count": 21,
   "metadata": {},
   "outputs": [
    {
     "name": "stdout",
     "output_type": "stream",
     "text": [
      "-----\n",
      "\n",
      "Generated description for angel investors: \n",
      "Angel investors are high-net-worth individuals who provide financial support to early-stage startups and entrepreneurs in exchange for ownership equity or convertible debt. They play a crucial role in the growth and development of startups, as they often invest in companies at a stage when traditional venture capital firms may not be willing to take the risk. These investors typically have a strong background in entrepreneurship or business, and they use their personal wealth, experience, and network to help startups succeed.\n",
      "\n",
      "Angel investors are considered the most critical component in creating a startup hub, as they provide the initial funding and support needed for startups to grow and attract further investment from venture capital firms. They are often more willing to take risks on innovative ideas and unproven business models, which can lead to the creation of groundbreaking technologies and successful companies.\n",
      "\n",
      "In addition to providing financial support, angel investors often offer mentorship, guidance, and valuable connections to help startups navigate the challenges of building a business. They may also assist in refining business strategies, identifying potential customers, and making introductions to other investors and industry partners.\n",
      "\n",
      "Angel investors can be individuals or part of an angel investment group, which pools resources and expertise to invest in multiple startups. These groups often have a more formalized investment process and may provide additional resources, such as shared office space or access to professional services, to support the growth of their portfolio companies.\n",
      "\n",
      "Overall, angel investors play a vital role in the startup ecosystem by providing the necessary funding, mentorship, and connections for early-stage companies to grow and succeed. Their willingness to invest in high-risk ventures contributes to the development of innovative technologies and the creation of new industries, making them an essential component of any thriving startup hub.\n",
      "-----\n",
      "\n",
      "Generated description for startup hub: \n",
      "A startup hub is a centralized location or ecosystem where entrepreneurs, startups, investors, and other stakeholders come together to foster innovation, collaboration, and growth. These hubs often provide resources, mentorship, networking opportunities, and access to capital for startups, helping them to develop and scale their businesses. In the given document, the author discusses the importance of personal introductions in the startup world, particularly when seeking investment from venture capitalists. The author also mentions the value of attending startup school, where aspiring entrepreneurs can learn from successful founders and gain insights into the startup ecosystem. The startup hub plays a crucial role in connecting these various elements, creating a supportive environment for startups to thrive and succeed.\n",
      "-----\n",
      "\n",
      "Generated description for Silicon Valley: \n",
      "Silicon Valley is a region in Northern California, known as a global hub for technology, innovation, and entrepreneurship. It is home to many of the world's largest and most successful technology companies, including Apple, Google, Facebook, and Tesla. The name \"Silicon Valley\" originated from the silicon chip manufacturers that were once prevalent in the area, and it has since become synonymous with the technology industry as a whole.\n",
      "\n",
      "The region is characterized by a high concentration of startups, venture capital firms, and research institutions, which together create a unique ecosystem that fosters innovation and collaboration. Many aspiring entrepreneurs and tech professionals flock to Silicon Valley in hopes of launching their careers or building the next big tech company.\n",
      "\n",
      "In the given document, the author discusses the importance of personal introductions in Silicon Valley, particularly when seeking funding from venture capital firms. It is emphasized that having a personal connection to a partner at a firm can significantly increase the chances of securing an investment. The document also mentions startup school, an event where attendees can learn from successful startup founders and gain insights into the world of entrepreneurship.\n",
      "\n",
      "Silicon Valley's culture is known for its fast-paced, competitive environment, where new ideas and technologies are constantly being developed and tested. This has led to a high rate of innovation and has contributed to the region's reputation as a global leader in technology and entrepreneurship. However, the competitive nature of the industry can also lead to challenges, such as the example mentioned in the document of a venture capitalist backing out of a deal due to buyer's remorse.\n",
      "\n",
      "Overall, Silicon Valley is a dynamic and influential region that plays a significant role in shaping the global technology landscape. Its unique ecosystem of startups, venture capital firms, and research institutions continues to drive innovation and attract talent from around the world.\n",
      "-----\n",
      "\n",
      "Generated description for venture capitalists: \n",
      "Venture capitalists (VCs) are professional investors who provide capital to startups and early-stage companies in exchange for equity ownership or a stake in the business. They play a crucial role in the growth and development of innovative companies, often providing not only funding but also strategic guidance, mentorship, and access to networks and resources.\n",
      "\n",
      "Venture capitalists typically invest in high-growth, high-potential startups with the aim of generating significant returns on their investment. They are willing to take on the risk associated with investing in unproven businesses because of the potential for outsized rewards if the company succeeds. VCs often invest in multiple startups to diversify their portfolio and mitigate risk, as they expect that some of their investments will fail while others will generate substantial returns.\n",
      "\n",
      "Venture capital firms raise funds from limited partners, such as pension funds, endowments, and wealthy individuals, and use these funds to invest in startups. The investment process usually involves extensive due diligence, including evaluating the startup's business model, market potential, competitive landscape, and the capabilities of the founding team.\n",
      "\n",
      "VCs typically invest in startups through a series of funding rounds, starting with seed or early-stage investments and continuing through later-stage rounds as the company grows and requires additional capital. The ultimate goal for venture capitalists is to exit their investment through a successful event, such as an initial public offering (IPO) or acquisition, which allows them to realize a return on their investment.\n",
      "\n",
      "However, as mentioned in the given document, venture capitalists may have different motivations and risk profiles compared to founders. They are primarily concerned with the overall performance of their portfolio, rather than the success of any individual company. This can lead to situations where VCs may push for riskier strategies or prioritize the interests of their portfolio over the long-term success of a specific startup.\n",
      "-----\n",
      "\n",
      "Generated description for Google: \n",
      "Google is a multinational technology company that specializes in providing internet-related services and products. It was founded in 1998 by Larry Page and Sergey Brin while they were Ph.D. students at Stanford University. The company's primary offering is its search engine, which is the most widely used search engine globally, processing billions of search queries every day. Google's search engine uses advanced algorithms and machine learning techniques to provide users with the most relevant and accurate search results.\n",
      "\n",
      "In addition to its search engine, Google offers a wide range of products and services, including online advertising technologies, cloud computing, software, and hardware. Some of its popular products include the Android operating system, the Google Chrome web browser, Google Maps, Google Drive, and the Google Assistant. The company also develops and manufactures hardware products such as the Google Pixel smartphones, Google Nest smart home devices, and Google Chromebooks.\n",
      "\n",
      "Google's mission is to organize the world's information and make it universally accessible and useful. The company is known for its innovative approach to technology and its commitment to improving user experience. Google has also been a pioneer in the development of artificial intelligence and machine learning, which are integrated into many of its products and services.\n",
      "\n",
      "In 2015, Google underwent a corporate restructuring, and its parent company, Alphabet Inc., was created. Alphabet now serves as the holding company for Google and its various subsidiaries, allowing the company to expand its focus on other areas, such as life sciences, self-driving cars, and internet connectivity.\n",
      "\n",
      "Overall, Google is a highly influential technology company that has significantly impacted the way people access and use information online. Its wide range of products and services, combined with its commitment to innovation, make it a key player in the global technology landscape.\n",
      "-----\n",
      "\n",
      "Generated description for momentum investors: \n",
      "Momentum investors are a type of large-scale investors who focus on the current market trends and the performance of a particular company or stock. They base their investment decisions on the belief that stocks that have been performing well in the recent past will continue to do so in the future, and those that have been underperforming will continue to struggle. This investment strategy relies on the idea that market trends and stock prices tend to move in a particular direction, and investors can capitalize on this momentum to generate profits.\n",
      "\n",
      "Momentum investors typically use technical analysis to identify stocks with strong price trends and invest in them, expecting the trend to continue. They may also use fundamental analysis to evaluate the financial health and growth potential of a company, but their primary focus remains on the stock's price movement and market trends.\n",
      "\n",
      "These investors are generally more risk-tolerant than other types of investors, as they are willing to invest in stocks with high volatility and rapidly changing market conditions. They often employ a short-term investment strategy, holding onto stocks for a relatively short period before selling them to lock in profits.\n",
      "\n",
      "In the context of startups, momentum investors may be more inclined to invest in companies that are experiencing rapid growth and have a strong market presence. They may also be more likely to push for aggressive growth strategies, as they seek to capitalize on the company's momentum and generate quick returns on their investment.\n",
      "\n",
      "However, it is essential to note that momentum investing can be risky, as market trends can change quickly, and a stock's performance may not always continue in the same direction. Therefore, momentum investors need to be vigilant and adapt their investment strategies to the changing market conditions to minimize potential losses.\n",
      "-----\n",
      "\n",
      "Generated description for stock: \n",
      "Stock refers to the ownership certificates of a particular company, representing a claim on part of the company's assets and earnings. It is a type of financial instrument that signifies an ownership interest in a corporation, entitling the stockholder to a proportion of the company's profits and assets. Stocks are also known as shares or equity.\n",
      "\n",
      "There are two main types of stock: common and preferred. Common stock usually entitles the owner to vote at shareholder meetings and to receive dividends, which are portions of the company's profits paid out to shareholders. Preferred stockholders generally do not have voting rights but have a higher claim on assets and earnings than common stockholders. This means that preferred stockholders receive dividends before common stockholders and have priority in case the company goes bankrupt and its assets are liquidated.\n",
      "\n",
      "Stocks are traded on stock exchanges, such as the New York Stock Exchange (NYSE) or the NASDAQ, where buyers and sellers come together to trade shares. The price of a stock is determined by the supply and demand for it in the market, influenced by factors such as the company's financial performance, industry trends, and overall economic conditions.\n",
      "\n",
      "Investing in stocks can be a way for individuals and institutions to grow their wealth over time, as the value of the company and its earnings increase. However, investing in stocks also comes with risks, as the value of a stock can decrease if the company performs poorly or if the overall market declines. Investors should carefully consider their risk tolerance and investment objectives before investing in stocks.\n",
      "\n",
      "In the context of startups and venture capital, stocks play a crucial role in the relationship between founders and investors. When investors provide funding to a startup, they usually receive equity or stock in the company in exchange for their investment. This gives them an ownership stake in the company and aligns their interests with those of the founders, as both parties stand to benefit from the company's success. However, as mentioned in the document, large-scale investors may have different risk profiles and motivations than founders, which can sometimes lead to conflicts in decision-making and strategy.\n"
     ]
    }
   ],
   "source": [
    "for keyword in keywords:\n",
    "\n",
    "    description = \"\"\n",
    "\n",
    "    # TODO: work on the retriever part\n",
    "    docs = retriever.similarity_search(keyword)\n",
    "    docs_set = set([doc.page_content for doc in docs])\n",
    "\n",
    "    # CHAIN1: Genrating query for generating a detailed description for the keyword\n",
    "    CHAIN1_PROMPT = PromptTemplate(\n",
    "        input_variables=[\"keyword\", \"document\", \"description\"],\n",
    "        template=\"\"\"\n",
    "            As a helpful knowledge provider,\n",
    "            Refer to the given document: {document},\n",
    "            generate a detailed description for the keyword: {keyword},\n",
    "            and add the details to the description: {description} if needed.\n",
    "            If context overlaps with the description, skip.\n",
    "        \"\"\"\n",
    "    )\n",
    "\n",
    "    description_chain = LLMChain(llm=llm, prompt=CHAIN1_PROMPT)\n",
    "\n",
    "    for doc in docs_set:\n",
    "        description = description_chain.run(\n",
    "            {\n",
    "                \"keyword\": keyword,\n",
    "                \"document\": doc,\n",
    "                \"description\": description\n",
    "            }\n",
    "        )\n",
    "\n",
    "    print(\"-----\")\n",
    "    print(f\"\\nGenerated description for {keyword}: \\n{description}\")"
   ]
  }
 ],
 "metadata": {
  "kernelspec": {
   "display_name": "langchain-tut",
   "language": "python",
   "name": "python3"
  },
  "language_info": {
   "codemirror_mode": {
    "name": "ipython",
    "version": 3
   },
   "file_extension": ".py",
   "mimetype": "text/x-python",
   "name": "python",
   "nbconvert_exporter": "python",
   "pygments_lexer": "ipython3",
   "version": "3.11.3"
  },
  "orig_nbformat": 4
 },
 "nbformat": 4,
 "nbformat_minor": 2
}
