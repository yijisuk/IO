{
 "cells": [
  {
   "cell_type": "code",
   "execution_count": null,
   "metadata": {},
   "outputs": [],
   "source": [
    "OPENAI_API_KEY = \"OPENAI_API_KEY_HERE\"\n",
    "PINECONE_API_KEY = \"PINECONE_API_KEY_HERE\"\n",
    "PINECONE_ENV = \"PINECONE_ENV_HERE\""
   ]
  },
  {
   "attachments": {},
   "cell_type": "markdown",
   "metadata": {},
   "source": [
    "### Text Splitter: Chunk up text data into smaller texts"
   ]
  },
  {
   "cell_type": "code",
   "execution_count": 2,
   "metadata": {},
   "outputs": [],
   "source": [
    "from langchain.text_splitter import RecursiveCharacterTextSplitter"
   ]
  },
  {
   "cell_type": "code",
   "execution_count": 3,
   "metadata": {},
   "outputs": [
    {
     "name": "stdout",
     "output_type": "stream",
     "text": [
      "You have 1 document\n"
     ]
    }
   ],
   "source": [
    "# This is a long document we can split up.\n",
    "with open('data/guidetoinvestors.txt') as f:\n",
    "    pg_work = f.read()\n",
    "    \n",
    "print (f\"You have {len([pg_work])} document\")"
   ]
  },
  {
   "cell_type": "code",
   "execution_count": 5,
   "metadata": {},
   "outputs": [
    {
     "data": {
      "text/html": [
       "<div>\n",
       "<style scoped>\n",
       "    .dataframe tbody tr th:only-of-type {\n",
       "        vertical-align: middle;\n",
       "    }\n",
       "\n",
       "    .dataframe tbody tr th {\n",
       "        vertical-align: top;\n",
       "    }\n",
       "\n",
       "    .dataframe thead th {\n",
       "        text-align: right;\n",
       "    }\n",
       "</style>\n",
       "<table border=\"1\" class=\"dataframe\">\n",
       "  <thead>\n",
       "    <tr style=\"text-align: right;\">\n",
       "      <th></th>\n",
       "      <th>text</th>\n",
       "      <th>n_tokens</th>\n",
       "    </tr>\n",
       "  </thead>\n",
       "  <tbody>\n",
       "    <tr>\n",
       "      <th>0</th>\n",
       "      <td>April 2007(This essay is derived from a keynot...</td>\n",
       "      <td>8151</td>\n",
       "    </tr>\n",
       "  </tbody>\n",
       "</table>\n",
       "</div>"
      ],
      "text/plain": [
       "                                                text  n_tokens\n",
       "0  April 2007(This essay is derived from a keynot...      8151"
      ]
     },
     "execution_count": 5,
     "metadata": {},
     "output_type": "execute_result"
    }
   ],
   "source": [
    "import pandas as pd\n",
    "import tiktoken\n",
    "\n",
    "tokenizer = tiktoken.get_encoding(\"cl100k_base\")\n",
    "tokenizer = tiktoken.encoding_for_model(\"gpt-4\")\n",
    "\n",
    "demo_df = pd.DataFrame(\n",
    "    {\n",
    "        'text': [pg_work],\n",
    "        'n_tokens': [len(tokenizer.encode(pg_work))]\n",
    "    }\n",
    ")\n",
    "\n",
    "demo_df.head(1)"
   ]
  },
  {
   "cell_type": "code",
   "execution_count": 6,
   "metadata": {},
   "outputs": [
    {
     "data": {
      "text/plain": [
       "[\"April 2007(This essay is derived from a keynote talk at the 2007 ASES Summit\\nat Stanford.)The world of investors is a foreign one to most hackers—partly\\nbecause investors are so unlike hackers, and partly because they\\ntend to operate in secret.  I've been dealing with this world for\\nmany years, both as a founder and an investor, and I still don't\\nfully understand it.In this essay I'm going to list some of the more surprising things\\nI've learned about investors.  Some I only learned in the past year.Teaching hackers how to deal with investors is probably the second\\nmost important thing we do at Y Combinator.  The most important\\nthing for a startup is to make something good.  But everyone knows\\nthat's important.  The dangerous thing about investors is that\\nhackers don't know how little they know about this strange world.1. The investors are what make a startup hub.About a year ago I tried to figure out what you'd need to reproduce\\nSilicon Valley.  I decided the \\ncritical ingredients were rich people\\nand nerds—investors and founders.  People are all you need to\\nmake technology, and all the other people will move.If I had to narrow that down, I'd say investors are the limiting\\nfactor.  Not because they contribute more to the startup, but simply\\nbecause they're least willing to move.  They're rich.  They're not\\ngoing to move to Albuquerque just because there are some smart\\nhackers there they could invest in.  Whereas hackers will move to\\nthe Bay Area to find investors.2. Angel investors are the most critical.There are several types of investors.  The two main categories are\\nangels and VCs: VCs invest other people's money, and angels invest\\ntheir own.Though they're less well known, the angel investors are probably\\nthe more critical ingredient in creating a silicon valley.  Most\\ncompanies that VCs invest in would never have made it that far if angels\\nhadn't invested first.  VCs say between half and three quarters of\",\n",
       " 'companies that raise series A rounds have taken some outside\\ninvestment already.\\n[1]Angels are willing to fund riskier projects than VCs.  They also\\ngive valuable advice, because (unlike VCs) many have been startup\\nfounders themselves.Google\\'s story shows the key role angels play. A lot of people know\\nGoogle raised money from Kleiner and Sequoia.  What most don\\'t realize\\nis how late.  That VC round was a series B round; the premoney\\nvaluation was $75 million.  Google was already a successful company\\nat that point.  Really, Google was funded with angel money.It may seem odd that the canonical Silicon Valley startup was funded\\nby angels, but this is not so surprising.  Risk is always proportionate\\nto reward.  So the most successful startup of all is likely to have\\nseemed an extremely risky bet at first, and that is exactly the\\nkind VCs won\\'t touch.Where do angel investors come from?  From other startups.  So startup\\nhubs like Silicon Valley benefit from something like the marketplace\\neffect, but shifted in time: startups are there because startups\\nwere there.3. Angels don\\'t like publicity.If angels are so important, why do we hear more about VCs?  Because\\nVCs like publicity.  They need to market themselves to the investors\\nwho are their \"customers\"—the endowments and pension funds and\\nrich families whose money they invest—and also to founders who\\nmight come to them for funding.Angels don\\'t need to market themselves to investors because they\\ninvest their own money.  Nor do they want to market themselves to\\nfounders: they don\\'t want random people pestering them with business\\nplans.  Actually, neither do VCs.  Both angels and VCs get deals\\nalmost exclusively through personal introductions.  \\n[2]The reason VCs want a strong brand is not to draw in more business\\nplans over the transom, but so they win deals when competing\\nagainst other VCs.  Whereas angels are rarely in direct competition,\\nbecause (a) they do fewer deals, (b) they\\'re happy to split them,',\n",
       " 'and (c) they invest at a point where the stream is broader.4. Most investors, especially VCs, are not like founders.Some angels are, or were, hackers.  But most VCs are a different\\ntype of people: they\\'re dealmakers.If you\\'re a hacker, here\\'s a thought experiment you can run to\\nunderstand why there are basically no hacker VCs: How would you\\nlike a job where you never got to make anything, but instead spent\\nall your time listening to other people pitch (mostly terrible)\\nprojects, deciding whether to fund them, and sitting on their boards\\nif you did?  That would not be fun for most hackers.  Hackers like\\nto make things.  This would be like being an administrator.Because most VCs are a different species of people from\\nfounders, it\\'s hard to know what they\\'re thinking.  If you\\'re a\\nhacker, the last time you had to deal with these guys was in high\\nschool.  Maybe in college you walked past their fraternity on your\\nway to the lab.  But don\\'t underestimate them.  They\\'re as expert\\nin their world as you are in yours.  What they\\'re good at is reading\\npeople, and making deals work to their advantage.  Think twice\\nbefore you try to beat them at that.5. Most investors are momentum investors.Because most investors are dealmakers rather than technology people,\\nthey generally don\\'t understand what you\\'re doing.  I knew as a\\nfounder that most VCs didn\\'t get technology.  I also knew some made\\na lot of money.  And yet it never occurred to me till recently to\\nput those two ideas together and ask \"How can VCs make money by\\ninvesting in stuff they don\\'t understand?\"The answer is that they\\'re like momentum investors.  You can (or\\ncould once) make a lot of money by noticing sudden changes in stock\\nprices.  When a stock jumps upward, you buy, and when it suddenly\\ndrops, you sell.  In effect you\\'re insider trading, without knowing\\nwhat you know.  You just know someone knows something, and that\\'s\\nmaking the stock move.This is how most venture investors operate.  They don\\'t try to look',\n",
       " 'at something and predict whether it will take off.  They win by\\nnoticing that something is taking off a little sooner than everyone\\nelse.  That generates almost as good returns as actually being able\\nto pick winners.  They may have to pay a little more than they would\\nif they got in at the very beginning, but only a little.Investors always say what they really care about is the team.\\nActually what they care most about is your traffic, then what other\\ninvestors think, then the team.  If you don\\'t yet have any traffic,\\nthey fall back on number 2, what other investors think.  And this,\\nas you can imagine, produces wild oscillations in the \"stock price\"\\nof a startup.  One week everyone wants you, and they\\'re begging not\\nto be cut out of the deal.  But all it takes is for one big investor\\nto cool on you, and the next week no one will return your phone\\ncalls.  We regularly have startups go from hot to cold or cold to\\nhot in a matter of days, and literally nothing has changed.There are two ways to deal with this phenomenon.  If you\\'re feeling\\nreally confident, you can try to ride it.  You can start by asking\\na comparatively lowly VC for a small amount of money, and then after\\ngenerating interest there, ask more prestigious VCs for larger\\namounts, stirring up a crescendo of buzz, and then \"sell\" at the\\ntop.  This is extremely risky, and takes months even if you succeed.\\nI wouldn\\'t try it myself.  My advice is to err on the side of safety:\\nwhen someone offers you a decent deal, just take it and get on with\\nbuilding the company.  Startups win or lose based on the quality\\nof their product, not the quality of their funding deals.6. Most investors are looking for big hits.Venture investors like companies that could go public.  That\\'s where\\nthe big returns are.  They know the odds of any individual startup\\ngoing public are small, but they want to invest in those that at\\nleast have a chance of going public.Currently the way VCs seem to operate is to invest in a bunch of',\n",
       " \"companies, most of which fail, and one of which is Google.  Those\\nfew big wins compensate for losses on their other investments.  What this\\nmeans is that most VCs will only invest in you if you're a potential\\nGoogle.  They don't care about companies that are a safe bet to be\\nacquired for $20 million.  There needs to be a chance, however\\nsmall, of the company becoming really big.Angels are different in this respect.  They're happy to invest in\\na company where the most likely outcome is a $20 million acquisition\\nif they can do it at a low enough valuation.  But of course they\\nlike companies that could go public too.  So having an ambitious\\nlong-term plan pleases everyone.If you take VC money, you have to mean it, because the structure\\nof VC deals prevents early acquisitions.  If you take VC money,\\nthey won't let you sell early.7. VCs want to invest large amounts.The fact that they're running investment funds makes VCs want to\\ninvest large amounts.  A typical VC fund is now hundreds of millions\\nof dollars.  If $400 million has to be invested by 10 partners,\\nthey have to invest $40 million each.  VCs usually sit on the boards\\nof companies they fund.  If the average deal size was $1 million,\\neach partner would have to sit on 40 boards, which would not be\\nfun.  So they prefer bigger deals, where they can put a lot of money\\nto work at once.VCs don't regard you as a bargain if you don't need a lot of money.\\nThat may even make you less attractive, because it means their\\ninvestment creates less of a barrier to entry for competitors.Angels are in a different position because they're investing their\\nown money.  They're happy to invest small amounts—sometimes as\\nlittle as $20,000—as long as the potential returns look good\\nenough.  So if you're doing something inexpensive, go to angels.8. Valuations are fiction.VCs admit that valuations are an artifact.  They decide how much\\nmoney you need and how much of the company they want, and those two\"]"
      ]
     },
     "execution_count": 6,
     "metadata": {},
     "output_type": "execute_result"
    }
   ],
   "source": [
    "text_splitter = RecursiveCharacterTextSplitter(chunk_size=2000, chunk_overlap=0)\n",
    "texts = text_splitter.split_text(pg_work)\n",
    "texts[:5]"
   ]
  },
  {
   "cell_type": "code",
   "execution_count": 7,
   "metadata": {},
   "outputs": [
    {
     "data": {
      "text/html": [
       "<div>\n",
       "<style scoped>\n",
       "    .dataframe tbody tr th:only-of-type {\n",
       "        vertical-align: middle;\n",
       "    }\n",
       "\n",
       "    .dataframe tbody tr th {\n",
       "        vertical-align: top;\n",
       "    }\n",
       "\n",
       "    .dataframe thead th {\n",
       "        text-align: right;\n",
       "    }\n",
       "</style>\n",
       "<table border=\"1\" class=\"dataframe\">\n",
       "  <thead>\n",
       "    <tr style=\"text-align: right;\">\n",
       "      <th></th>\n",
       "      <th>text</th>\n",
       "      <th>n_tokens</th>\n",
       "    </tr>\n",
       "  </thead>\n",
       "  <tbody>\n",
       "    <tr>\n",
       "      <th>0</th>\n",
       "      <td>April 2007(This essay is derived from a keynot...</td>\n",
       "      <td>443</td>\n",
       "    </tr>\n",
       "    <tr>\n",
       "      <th>1</th>\n",
       "      <td>companies that raise series A rounds have take...</td>\n",
       "      <td>453</td>\n",
       "    </tr>\n",
       "    <tr>\n",
       "      <th>2</th>\n",
       "      <td>and (c) they invest at a point where the strea...</td>\n",
       "      <td>473</td>\n",
       "    </tr>\n",
       "    <tr>\n",
       "      <th>3</th>\n",
       "      <td>at something and predict whether it will take ...</td>\n",
       "      <td>467</td>\n",
       "    </tr>\n",
       "    <tr>\n",
       "      <th>4</th>\n",
       "      <td>companies, most of which fail, and one of whic...</td>\n",
       "      <td>463</td>\n",
       "    </tr>\n",
       "  </tbody>\n",
       "</table>\n",
       "</div>"
      ],
      "text/plain": [
       "                                                text  n_tokens\n",
       "0  April 2007(This essay is derived from a keynot...       443\n",
       "1  companies that raise series A rounds have take...       453\n",
       "2  and (c) they invest at a point where the strea...       473\n",
       "3  at something and predict whether it will take ...       467\n",
       "4  companies, most of which fail, and one of whic...       463"
      ]
     },
     "execution_count": 7,
     "metadata": {},
     "output_type": "execute_result"
    }
   ],
   "source": [
    "demo_df_splitted = pd.DataFrame(\n",
    "    {\n",
    "        'text': texts,\n",
    "        'n_tokens': [len(tokenizer.encode(text)) for text in texts]\n",
    "    }\n",
    ")\n",
    "\n",
    "demo_df_splitted.head()"
   ]
  },
  {
   "cell_type": "code",
   "execution_count": 8,
   "metadata": {},
   "outputs": [
    {
     "name": "stdout",
     "output_type": "stream",
     "text": [
      "You have 20 documents\n"
     ]
    }
   ],
   "source": [
    "print (f\"You have {len(texts)} documents\")"
   ]
  },
  {
   "attachments": {},
   "cell_type": "markdown",
   "metadata": {},
   "source": [
    "### Create Pinecone Index & Embedding Demo"
   ]
  },
  {
   "cell_type": "code",
   "execution_count": 9,
   "metadata": {},
   "outputs": [],
   "source": [
    "PINECONE_INDEX = \"demo-index\""
   ]
  },
  {
   "cell_type": "code",
   "execution_count": 10,
   "metadata": {},
   "outputs": [
    {
     "name": "stderr",
     "output_type": "stream",
     "text": [
      "c:\\Users\\offco\\.conda\\envs\\langchain-tut\\Lib\\site-packages\\pinecone\\index.py:4: TqdmWarning: IProgress not found. Please update jupyter and ipywidgets. See https://ipywidgets.readthedocs.io/en/stable/user_install.html\n",
      "  from tqdm.autonotebook import tqdm\n"
     ]
    },
    {
     "data": {
      "text/plain": [
       "{'dimension': 1536,\n",
       " 'index_fullness': 0.0,\n",
       " 'namespaces': {'': {'vector_count': 20}},\n",
       " 'total_vector_count': 20}"
      ]
     },
     "execution_count": 10,
     "metadata": {},
     "output_type": "execute_result"
    }
   ],
   "source": [
    "import openai\n",
    "import pinecone\n",
    "from langchain.document_loaders import TextLoader\n",
    "\n",
    "pinecone.init(api_key=PINECONE_API_KEY, environment=PINECONE_ENV)\n",
    "\n",
    "if PINECONE_INDEX not in pinecone.list_indexes():\n",
    "    pinecone.create_index(PINECONE_INDEX, dimension=1536, metric=\"cosine\")\n",
    "\n",
    "index = pinecone.Index(\"demo-index\")\n",
    "index.describe_index_stats()"
   ]
  },
  {
   "cell_type": "code",
   "execution_count": 12,
   "metadata": {},
   "outputs": [],
   "source": [
    "openai.api_key = OPENAI_API_KEY\n",
    "demo_df_splitted['embeddings'] = demo_df_splitted.text.apply(lambda x: openai.Embedding.create(input=x, engine='text-embedding-ada-002')['data'][0]['embedding'])"
   ]
  },
  {
   "cell_type": "code",
   "execution_count": 13,
   "metadata": {},
   "outputs": [
    {
     "data": {
      "text/html": [
       "<div>\n",
       "<style scoped>\n",
       "    .dataframe tbody tr th:only-of-type {\n",
       "        vertical-align: middle;\n",
       "    }\n",
       "\n",
       "    .dataframe tbody tr th {\n",
       "        vertical-align: top;\n",
       "    }\n",
       "\n",
       "    .dataframe thead th {\n",
       "        text-align: right;\n",
       "    }\n",
       "</style>\n",
       "<table border=\"1\" class=\"dataframe\">\n",
       "  <thead>\n",
       "    <tr style=\"text-align: right;\">\n",
       "      <th></th>\n",
       "      <th>text</th>\n",
       "      <th>n_tokens</th>\n",
       "      <th>embeddings</th>\n",
       "    </tr>\n",
       "  </thead>\n",
       "  <tbody>\n",
       "    <tr>\n",
       "      <th>0</th>\n",
       "      <td>April 2007(This essay is derived from a keynot...</td>\n",
       "      <td>443</td>\n",
       "      <td>[0.028812682256102562, -0.020147008821368217, ...</td>\n",
       "    </tr>\n",
       "    <tr>\n",
       "      <th>1</th>\n",
       "      <td>companies that raise series A rounds have take...</td>\n",
       "      <td>453</td>\n",
       "      <td>[0.01580376923084259, -0.0337928831577301, 0.0...</td>\n",
       "    </tr>\n",
       "    <tr>\n",
       "      <th>2</th>\n",
       "      <td>and (c) they invest at a point where the strea...</td>\n",
       "      <td>473</td>\n",
       "      <td>[0.006701738107949495, -0.030748752877116203, ...</td>\n",
       "    </tr>\n",
       "    <tr>\n",
       "      <th>3</th>\n",
       "      <td>at something and predict whether it will take ...</td>\n",
       "      <td>467</td>\n",
       "      <td>[-0.010730039328336716, -0.01844008080661297, ...</td>\n",
       "    </tr>\n",
       "    <tr>\n",
       "      <th>4</th>\n",
       "      <td>companies, most of which fail, and one of whic...</td>\n",
       "      <td>463</td>\n",
       "      <td>[0.008658324368298054, -0.023522228002548218, ...</td>\n",
       "    </tr>\n",
       "  </tbody>\n",
       "</table>\n",
       "</div>"
      ],
      "text/plain": [
       "                                                text  n_tokens   \n",
       "0  April 2007(This essay is derived from a keynot...       443  \\\n",
       "1  companies that raise series A rounds have take...       453   \n",
       "2  and (c) they invest at a point where the strea...       473   \n",
       "3  at something and predict whether it will take ...       467   \n",
       "4  companies, most of which fail, and one of whic...       463   \n",
       "\n",
       "                                          embeddings  \n",
       "0  [0.028812682256102562, -0.020147008821368217, ...  \n",
       "1  [0.01580376923084259, -0.0337928831577301, 0.0...  \n",
       "2  [0.006701738107949495, -0.030748752877116203, ...  \n",
       "3  [-0.010730039328336716, -0.01844008080661297, ...  \n",
       "4  [0.008658324368298054, -0.023522228002548218, ...  "
      ]
     },
     "execution_count": 13,
     "metadata": {},
     "output_type": "execute_result"
    }
   ],
   "source": [
    "demo_df_splitted.head()"
   ]
  },
  {
   "cell_type": "code",
   "execution_count": 14,
   "metadata": {},
   "outputs": [
    {
     "data": {
      "text/html": [
       "<div>\n",
       "<style scoped>\n",
       "    .dataframe tbody tr th:only-of-type {\n",
       "        vertical-align: middle;\n",
       "    }\n",
       "\n",
       "    .dataframe tbody tr th {\n",
       "        vertical-align: top;\n",
       "    }\n",
       "\n",
       "    .dataframe thead th {\n",
       "        text-align: right;\n",
       "    }\n",
       "</style>\n",
       "<table border=\"1\" class=\"dataframe\">\n",
       "  <thead>\n",
       "    <tr style=\"text-align: right;\">\n",
       "      <th></th>\n",
       "      <th>id</th>\n",
       "      <th>text</th>\n",
       "      <th>embeddings</th>\n",
       "      <th>n_tokens</th>\n",
       "    </tr>\n",
       "  </thead>\n",
       "  <tbody>\n",
       "    <tr>\n",
       "      <th>0</th>\n",
       "      <td>5508c41e-b90e-4622-8348-e8127da98fef</td>\n",
       "      <td>April 2007(This essay is derived from a keynot...</td>\n",
       "      <td>[0.028812682256102562, -0.020147008821368217, ...</td>\n",
       "      <td>443</td>\n",
       "    </tr>\n",
       "    <tr>\n",
       "      <th>1</th>\n",
       "      <td>f4941ada-e704-4286-9998-4e1dd900bbb7</td>\n",
       "      <td>companies that raise series A rounds have take...</td>\n",
       "      <td>[0.01580376923084259, -0.0337928831577301, 0.0...</td>\n",
       "      <td>453</td>\n",
       "    </tr>\n",
       "    <tr>\n",
       "      <th>2</th>\n",
       "      <td>6ab04a7b-26bb-4a6d-9157-6435ca029470</td>\n",
       "      <td>and (c) they invest at a point where the strea...</td>\n",
       "      <td>[0.006701738107949495, -0.030748752877116203, ...</td>\n",
       "      <td>473</td>\n",
       "    </tr>\n",
       "    <tr>\n",
       "      <th>3</th>\n",
       "      <td>7596d022-971f-43a9-89e8-fc80b5cc24a9</td>\n",
       "      <td>at something and predict whether it will take ...</td>\n",
       "      <td>[-0.010730039328336716, -0.01844008080661297, ...</td>\n",
       "      <td>467</td>\n",
       "    </tr>\n",
       "    <tr>\n",
       "      <th>4</th>\n",
       "      <td>f1284066-5223-4ab4-8081-19a8d691fb04</td>\n",
       "      <td>companies, most of which fail, and one of whic...</td>\n",
       "      <td>[0.008658324368298054, -0.023522228002548218, ...</td>\n",
       "      <td>463</td>\n",
       "    </tr>\n",
       "  </tbody>\n",
       "</table>\n",
       "</div>"
      ],
      "text/plain": [
       "                                     id   \n",
       "0  5508c41e-b90e-4622-8348-e8127da98fef  \\\n",
       "1  f4941ada-e704-4286-9998-4e1dd900bbb7   \n",
       "2  6ab04a7b-26bb-4a6d-9157-6435ca029470   \n",
       "3  7596d022-971f-43a9-89e8-fc80b5cc24a9   \n",
       "4  f1284066-5223-4ab4-8081-19a8d691fb04   \n",
       "\n",
       "                                                text   \n",
       "0  April 2007(This essay is derived from a keynot...  \\\n",
       "1  companies that raise series A rounds have take...   \n",
       "2  and (c) they invest at a point where the strea...   \n",
       "3  at something and predict whether it will take ...   \n",
       "4  companies, most of which fail, and one of whic...   \n",
       "\n",
       "                                          embeddings  n_tokens  \n",
       "0  [0.028812682256102562, -0.020147008821368217, ...       443  \n",
       "1  [0.01580376923084259, -0.0337928831577301, 0.0...       453  \n",
       "2  [0.006701738107949495, -0.030748752877116203, ...       473  \n",
       "3  [-0.010730039328336716, -0.01844008080661297, ...       467  \n",
       "4  [0.008658324368298054, -0.023522228002548218, ...       463  "
      ]
     },
     "execution_count": 14,
     "metadata": {},
     "output_type": "execute_result"
    }
   ],
   "source": [
    "from uuid import uuid4\n",
    "\n",
    "df = demo_df_splitted.copy()\n",
    "df['id'] = [str(uuid4()) for _ in range(len(df))]\n",
    "df = df[['id', 'text', 'embeddings', 'n_tokens']]\n",
    "df.head()"
   ]
  },
  {
   "attachments": {},
   "cell_type": "markdown",
   "metadata": {},
   "source": [
    "### Retriever: Create embeddings of documents for semantic search"
   ]
  },
  {
   "cell_type": "code",
   "execution_count": 15,
   "metadata": {},
   "outputs": [],
   "source": [
    "from langchain.vectorstores import Pinecone\n",
    "from langchain.embeddings.openai import OpenAIEmbeddings\n",
    "\n",
    "embeddings = OpenAIEmbeddings(openai_api_key=OPENAI_API_KEY)\n",
    "\n",
    "retriever = Pinecone.from_texts([t for t in df.text], embeddings, index_name=\"demo-index\")"
   ]
  },
  {
   "cell_type": "code",
   "execution_count": 18,
   "metadata": {},
   "outputs": [],
   "source": [
    "query = \"What is Silicon Valley?\"\n",
    "docs = retriever.similarity_search(query)"
   ]
  },
  {
   "cell_type": "code",
   "execution_count": 19,
   "metadata": {},
   "outputs": [
    {
     "data": {
      "text/plain": [
       "\"April 2007(This essay is derived from a keynote talk at the 2007 ASES Summit\\nat Stanford.)The world of investors is a foreign one to most hackers—partly\\nbecause investors are so unlike hackers, and partly because they\\ntend to operate in secret.  I've been dealing with this world for\\nmany years, both as a founder and an investor, and I still don't\\nfully understand it.In this essay I'm going to list some of the more surprising things\\nI've learned about investors.  Some I only learned in the past year.Teaching hackers how to deal with investors is probably the second\\nmost important thing we do at Y Combinator.  The most important\\nthing for a startup is to make something good.  But everyone knows\\nthat's important.  The dangerous thing about investors is that\\nhackers don't know how little they know about this strange world.1. The investors are what make a startup hub.About a year ago I tried to figure out what you'd need to reproduce\\nSilicon Valley.  I decided the \\ncritical ingredients were rich people\\nand nerds—investors and founders.  People are all you need to\\nmake technology, and all the other people will move.If I had to narrow that down, I'd say investors are the limiting\\nfactor.  Not because they contribute more to the startup, but simply\\nbecause they're least willing to move.  They're rich.  They're not\\ngoing to move to Albuquerque just because there are some smart\\nhackers there they could invest in.  Whereas hackers will move to\\nthe Bay Area to find investors.2. Angel investors are the most critical.There are several types of investors.  The two main categories are\\nangels and VCs: VCs invest other people's money, and angels invest\\ntheir own.Though they're less well known, the angel investors are probably\\nthe more critical ingredient in creating a silicon valley.  Most\\ncompanies that VCs invest in would never have made it that far if angels\\nhadn't invested first.  VCs say between half and three quarters of\""
      ]
     },
     "execution_count": 19,
     "metadata": {},
     "output_type": "execute_result"
    }
   ],
   "source": [
    "docs[0].page_content"
   ]
  },
  {
   "cell_type": "code",
   "execution_count": 23,
   "metadata": {},
   "outputs": [
    {
     "data": {
      "text/plain": [
       "[Document(page_content=\"April 2007(This essay is derived from a keynote talk at the 2007 ASES Summit\\nat Stanford.)The world of investors is a foreign one to most hackers—partly\\nbecause investors are so unlike hackers, and partly because they\\ntend to operate in secret.  I've been dealing with this world for\\nmany years, both as a founder and an investor, and I still don't\\nfully understand it.In this essay I'm going to list some of the more surprising things\\nI've learned about investors.  Some I only learned in the past year.Teaching hackers how to deal with investors is probably the second\\nmost important thing we do at Y Combinator.  The most important\\nthing for a startup is to make something good.  But everyone knows\\nthat's important.  The dangerous thing about investors is that\\nhackers don't know how little they know about this strange world.1. The investors are what make a startup hub.About a year ago I tried to figure out what you'd need to reproduce\\nSilicon Valley.  I decided the \\ncritical ingredients were rich people\\nand nerds—investors and founders.  People are all you need to\\nmake technology, and all the other people will move.If I had to narrow that down, I'd say investors are the limiting\\nfactor.  Not because they contribute more to the startup, but simply\\nbecause they're least willing to move.  They're rich.  They're not\\ngoing to move to Albuquerque just because there are some smart\\nhackers there they could invest in.  Whereas hackers will move to\\nthe Bay Area to find investors.2. Angel investors are the most critical.There are several types of investors.  The two main categories are\\nangels and VCs: VCs invest other people's money, and angels invest\\ntheir own.Though they're less well known, the angel investors are probably\\nthe more critical ingredient in creating a silicon valley.  Most\\ncompanies that VCs invest in would never have made it that far if angels\\nhadn't invested first.  VCs say between half and three quarters of\", metadata={}),\n",
       " Document(page_content=\"April 2007(This essay is derived from a keynote talk at the 2007 ASES Summit\\nat Stanford.)The world of investors is a foreign one to most hackers—partly\\nbecause investors are so unlike hackers, and partly because they\\ntend to operate in secret.  I've been dealing with this world for\\nmany years, both as a founder and an investor, and I still don't\\nfully understand it.In this essay I'm going to list some of the more surprising things\\nI've learned about investors.  Some I only learned in the past year.Teaching hackers how to deal with investors is probably the second\\nmost important thing we do at Y Combinator.  The most important\\nthing for a startup is to make something good.  But everyone knows\\nthat's important.  The dangerous thing about investors is that\\nhackers don't know how little they know about this strange world.1. The investors are what make a startup hub.About a year ago I tried to figure out what you'd need to reproduce\\nSilicon Valley.  I decided the \\ncritical ingredients were rich people\\nand nerds—investors and founders.  People are all you need to\\nmake technology, and all the other people will move.If I had to narrow that down, I'd say investors are the limiting\\nfactor.  Not because they contribute more to the startup, but simply\\nbecause they're least willing to move.  They're rich.  They're not\\ngoing to move to Albuquerque just because there are some smart\\nhackers there they could invest in.  Whereas hackers will move to\\nthe Bay Area to find investors.2. Angel investors are the most critical.There are several types of investors.  The two main categories are\\nangels and VCs: VCs invest other people's money, and angels invest\\ntheir own.Though they're less well known, the angel investors are probably\\nthe more critical ingredient in creating a silicon valley.  Most\\ncompanies that VCs invest in would never have made it that far if angels\\nhadn't invested first.  VCs say between half and three quarters of\", metadata={}),\n",
       " Document(page_content='companies that raise series A rounds have taken some outside\\ninvestment already.\\n[1]Angels are willing to fund riskier projects than VCs.  They also\\ngive valuable advice, because (unlike VCs) many have been startup\\nfounders themselves.Google\\'s story shows the key role angels play. A lot of people know\\nGoogle raised money from Kleiner and Sequoia.  What most don\\'t realize\\nis how late.  That VC round was a series B round; the premoney\\nvaluation was $75 million.  Google was already a successful company\\nat that point.  Really, Google was funded with angel money.It may seem odd that the canonical Silicon Valley startup was funded\\nby angels, but this is not so surprising.  Risk is always proportionate\\nto reward.  So the most successful startup of all is likely to have\\nseemed an extremely risky bet at first, and that is exactly the\\nkind VCs won\\'t touch.Where do angel investors come from?  From other startups.  So startup\\nhubs like Silicon Valley benefit from something like the marketplace\\neffect, but shifted in time: startups are there because startups\\nwere there.3. Angels don\\'t like publicity.If angels are so important, why do we hear more about VCs?  Because\\nVCs like publicity.  They need to market themselves to the investors\\nwho are their \"customers\"—the endowments and pension funds and\\nrich families whose money they invest—and also to founders who\\nmight come to them for funding.Angels don\\'t need to market themselves to investors because they\\ninvest their own money.  Nor do they want to market themselves to\\nfounders: they don\\'t want random people pestering them with business\\nplans.  Actually, neither do VCs.  Both angels and VCs get deals\\nalmost exclusively through personal introductions.  \\n[2]The reason VCs want a strong brand is not to draw in more business\\nplans over the transom, but so they win deals when competing\\nagainst other VCs.  Whereas angels are rarely in direct competition,\\nbecause (a) they do fewer deals, (b) they\\'re happy to split them,', metadata={}),\n",
       " Document(page_content='companies that raise series A rounds have taken some outside\\ninvestment already.\\n[1]Angels are willing to fund riskier projects than VCs.  They also\\ngive valuable advice, because (unlike VCs) many have been startup\\nfounders themselves.Google\\'s story shows the key role angels play. A lot of people know\\nGoogle raised money from Kleiner and Sequoia.  What most don\\'t realize\\nis how late.  That VC round was a series B round; the premoney\\nvaluation was $75 million.  Google was already a successful company\\nat that point.  Really, Google was funded with angel money.It may seem odd that the canonical Silicon Valley startup was funded\\nby angels, but this is not so surprising.  Risk is always proportionate\\nto reward.  So the most successful startup of all is likely to have\\nseemed an extremely risky bet at first, and that is exactly the\\nkind VCs won\\'t touch.Where do angel investors come from?  From other startups.  So startup\\nhubs like Silicon Valley benefit from something like the marketplace\\neffect, but shifted in time: startups are there because startups\\nwere there.3. Angels don\\'t like publicity.If angels are so important, why do we hear more about VCs?  Because\\nVCs like publicity.  They need to market themselves to the investors\\nwho are their \"customers\"—the endowments and pension funds and\\nrich families whose money they invest—and also to founders who\\nmight come to them for funding.Angels don\\'t need to market themselves to investors because they\\ninvest their own money.  Nor do they want to market themselves to\\nfounders: they don\\'t want random people pestering them with business\\nplans.  Actually, neither do VCs.  Both angels and VCs get deals\\nalmost exclusively through personal introductions.  \\n[2]The reason VCs want a strong brand is not to draw in more business\\nplans over the transom, but so they win deals when competing\\nagainst other VCs.  Whereas angels are rarely in direct competition,\\nbecause (a) they do fewer deals, (b) they\\'re happy to split them,', metadata={})]"
      ]
     },
     "execution_count": 23,
     "metadata": {},
     "output_type": "execute_result"
    }
   ],
   "source": [
    "docs"
   ]
  },
  {
   "attachments": {},
   "cell_type": "markdown",
   "metadata": {},
   "source": [
    "### Query the retrieved data to get answers back"
   ]
  },
  {
   "cell_type": "code",
   "execution_count": 20,
   "metadata": {},
   "outputs": [],
   "source": [
    "from langchain.llms import OpenAI\n",
    "from langchain.chains.question_answering import load_qa_chain"
   ]
  },
  {
   "cell_type": "code",
   "execution_count": 21,
   "metadata": {},
   "outputs": [],
   "source": [
    "llm = OpenAI(temperature=0, openai_api_key=OPENAI_API_KEY)\n",
    "chain = load_qa_chain(llm, chain_type=\"stuff\")"
   ]
  },
  {
   "cell_type": "code",
   "execution_count": 22,
   "metadata": {},
   "outputs": [
    {
     "data": {
      "text/plain": [
       "' Silicon Valley is a startup hub in the Bay Area of California, known for its high concentration of technology companies and venture capital firms.'"
      ]
     },
     "execution_count": 22,
     "metadata": {},
     "output_type": "execute_result"
    }
   ],
   "source": [
    "chain.run(input_documents=docs, question=query)"
   ]
  },
  {
   "cell_type": "code",
   "execution_count": null,
   "metadata": {},
   "outputs": [],
   "source": [
    "docs[0].page_content"
   ]
  }
 ],
 "metadata": {
  "kernelspec": {
   "display_name": "langchain-tut",
   "language": "python",
   "name": "python3"
  },
  "language_info": {
   "codemirror_mode": {
    "name": "ipython",
    "version": 3
   },
   "file_extension": ".py",
   "mimetype": "text/x-python",
   "name": "python",
   "nbconvert_exporter": "python",
   "pygments_lexer": "ipython3",
   "version": "3.11.3"
  },
  "orig_nbformat": 4
 },
 "nbformat": 4,
 "nbformat_minor": 2
}
