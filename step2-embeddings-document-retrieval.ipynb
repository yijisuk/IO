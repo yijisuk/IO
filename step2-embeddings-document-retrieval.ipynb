{
 "cells": [
  {
   "cell_type": "code",
   "execution_count": 1,
   "metadata": {},
   "outputs": [],
   "source": [
    "OPENAI_API_KEY = \"OPENAI_API_KEY\"\n",
    "\n",
    "PINECONE_API_KEY = \"PINECONE_API_KEY\"\n",
    "PINECONE_ENV = \"asia-southeast1-gcp-free\"\n",
    "PINECONE_INDEX = \"guidetoinvestors\"\n",
    "\n",
    "DOCUMENT = \"data/guidetoinvestors.txt\""
   ]
  },
  {
   "cell_type": "code",
   "execution_count": 2,
   "metadata": {},
   "outputs": [
    {
     "name": "stderr",
     "output_type": "stream",
     "text": [
      "c:\\Users\\offco\\.conda\\envs\\langchain-tut\\Lib\\site-packages\\pinecone\\index.py:4: TqdmWarning: IProgress not found. Please update jupyter and ipywidgets. See https://ipywidgets.readthedocs.io/en/stable/user_install.html\n",
      "  from tqdm.autonotebook import tqdm\n"
     ]
    }
   ],
   "source": [
    "import openai\n",
    "import pinecone\n",
    "import tiktoken\n",
    "from langchain.text_splitter import RecursiveCharacterTextSplitter\n",
    "from langchain.vectorstores import Pinecone\n",
    "from langchain.embeddings.openai import OpenAIEmbeddings\n",
    "\n",
    "# load document\n",
    "with open(DOCUMENT) as f: pg_work = f.read()\n",
    "\n",
    "# tokenizer\n",
    "tokenizer = tiktoken.get_encoding(\"cl100k_base\")\n",
    "tokenizer = tiktoken.encoding_for_model(\"gpt-4\")\n",
    "\n",
    "# split text\n",
    "text_splitter = RecursiveCharacterTextSplitter(chunk_size=2000, chunk_overlap=0)\n",
    "texts = text_splitter.split_text(pg_work)\n",
    "\n",
    "# initialize Pinecone\n",
    "pinecone.init(api_key=PINECONE_API_KEY, environment=PINECONE_ENV)\n",
    "\n",
    "if PINECONE_INDEX not in pinecone.list_indexes():\n",
    "    pinecone.create_index(PINECONE_INDEX, dimension=1536, metric=\"cosine\")\n",
    "\n",
    "index = pinecone.Index(PINECONE_INDEX)\n",
    "\n",
    "# initialize OpenAI Embeddings\n",
    "openai.api_key = OPENAI_API_KEY\n",
    "embeddings = OpenAIEmbeddings(openai_api_key=OPENAI_API_KEY, model=\"text-embedding-ada-002\")\n",
    "\n",
    "# initialize Pinecone retriever\n",
    "retriever = Pinecone.from_texts(texts, embeddings, index_name=PINECONE_INDEX)"
   ]
  },
  {
   "cell_type": "code",
   "execution_count": 3,
   "metadata": {},
   "outputs": [
    {
     "name": "stderr",
     "output_type": "stream",
     "text": [
      "c:\\Users\\offco\\.conda\\envs\\langchain-tut\\Lib\\site-packages\\langchain\\llms\\openai.py:169: UserWarning: You are trying to use a chat model. This way of initializing it is no longer supported. Instead, please use: `from langchain.chat_models import ChatOpenAI`\n",
      "  warnings.warn(\n",
      "c:\\Users\\offco\\.conda\\envs\\langchain-tut\\Lib\\site-packages\\langchain\\llms\\openai.py:696: UserWarning: You are trying to use a chat model. This way of initializing it is no longer supported. Instead, please use: `from langchain.chat_models import ChatOpenAI`\n",
      "  warnings.warn(\n"
     ]
    }
   ],
   "source": [
    "from langchain.llms import OpenAI\n",
    "from langchain.chains import LLMChain\n",
    "from langchain.prompts import PromptTemplate\n",
    "\n",
    "keywords = ['angel investors', 'startup hub', 'Silicon Valley',\n",
    "    'venture capitalists', 'Google', 'momentum investors', 'stock']\n",
    "\n",
    "OPENAI_MODELS = [\"gpt-4\", \"gpt-3.5-turbo\"]\n",
    "llm = OpenAI(temperature=0, model_name=OPENAI_MODELS[0], openai_api_key=OPENAI_API_KEY)"
   ]
  },
  {
   "cell_type": "code",
   "execution_count": 4,
   "metadata": {},
   "outputs": [],
   "source": [
    "keyword_description_dict = {}\n",
    "\n",
    "for keyword in keywords:\n",
    "\n",
    "    description = \"\"\n",
    "\n",
    "    docs = retriever.similarity_search(keyword)\n",
    "    docs_set = set([doc.page_content for doc in docs])\n",
    "\n",
    "    # CHAIN1: Genrating query for generating a detailed description for the keyword\n",
    "    CHAIN1_PROMPT = PromptTemplate(\n",
    "        input_variables=[\"keyword\", \"document\", \"description\"],\n",
    "        template=\"\"\"\n",
    "            As a helpful knowledge provider,\n",
    "            Refer to the given document: {document},\n",
    "            generate a detailed description for the keyword: {keyword},\n",
    "            and add the details to the description: {description} if needed.\n",
    "            If context overlaps with the description, skip.\n",
    "        \"\"\"\n",
    "    )\n",
    "\n",
    "    description_chain = LLMChain(llm=llm, prompt=CHAIN1_PROMPT)\n",
    "\n",
    "    for doc in docs_set:\n",
    "        description = description_chain.run(\n",
    "            {\n",
    "                \"keyword\": keyword,\n",
    "                \"document\": doc,\n",
    "                \"description\": description\n",
    "            }\n",
    "        )\n",
    "    \n",
    "    keyword_description_dict[keyword] = description"
   ]
  },
  {
   "cell_type": "code",
   "execution_count": 7,
   "metadata": {},
   "outputs": [],
   "source": [
    "for key in keyword_description_dict.keys():\n",
    "    description = keyword_description_dict[key]\n",
    "    description = description.replace(\"\\n\\n\", \"\")\n",
    "\n",
    "    keyword_description_dict[key] = description"
   ]
  },
  {
   "cell_type": "code",
   "execution_count": 8,
   "metadata": {},
   "outputs": [
    {
     "name": "stdout",
     "output_type": "stream",
     "text": [
      "{\n",
      "    \"angel investors\": \"Angel investors are high-net-worth individuals who provide financial support to early-stage startups and entrepreneurs in exchange for ownership equity or convertible debt. They play a crucial role in the growth and development of startups, as they often invest in companies at a stage when traditional venture capital firms may not be willing to take the risk. These investors typically have a strong background in entrepreneurship or business, and they use their personal wealth, experience, and network to help startups succeed.Angel investors are considered the most critical component in creating a startup hub, as they provide the initial funding and support needed for startups to grow and attract further investment. They are often more willing to take risks on innovative ideas and unproven business models, which can lead to the creation of groundbreaking technologies and successful companies. In addition to financial support, angel investors often provide mentorship, strategic guidance, and access to their professional networks, which can be invaluable for early-stage startups.The investment process with angel investors is usually more informal and flexible compared to venture capital firms. They may invest individually or as part of an angel group or syndicate, pooling resources and expertise to support a startup. The amount of funding provided by angel investors can vary greatly, ranging from a few thousand dollars to several million, depending on the startup's needs and the investor's capacity.In summary, angel investors are essential players in the startup ecosystem, providing early-stage companies with the financial support, mentorship, and resources needed to grow and succeed. Their willingness to invest in high-risk ventures and contribute their expertise and networks make them a vital component in the creation and development of successful startup hubs.\",\n",
      "    \"startup hub\": \"A startup hub is a centralized location or ecosystem where entrepreneurs, startups, investors, and other stakeholders come together to foster innovation, collaboration, and growth. These hubs provide a supportive environment for startups to develop and scale their businesses by offering resources such as mentorship, funding opportunities, networking events, and access to industry experts. They often feature co-working spaces, incubators, and accelerators, which help startups in various stages of development.In the context of the given document, a startup hub would be an ideal place for startups to connect with potential investors who can provide funding and support. The investors in these hubs are usually well-versed in the startup world and can make quick decisions on whether to invest in a particular startup or not. This is crucial for startups, as they thrive on speed and momentum.Furthermore, startup hubs often host events and workshops that help entrepreneurs refine their business ideas, develop their skills, and expand their networks. These hubs also facilitate collaboration between startups, allowing them to share knowledge, resources, and expertise, which can be invaluable in the early stages of a business.Overall, a startup hub is a dynamic and supportive ecosystem that plays a significant role in the success and growth of startups by providing them with the necessary resources, connections, and opportunities to thrive in the competitive business landscape.\",\n",
      "    \"Silicon Valley\": \"Silicon Valley is a region in Northern California, specifically in the southern part of the San Francisco Bay Area, that serves as a global hub for technology, innovation, and entrepreneurship. The area is home to many of the world's largest and most successful technology companies, including Apple, Google, Facebook, and Tesla, as well as numerous startups and venture capital firms.The name \\\"Silicon Valley\\\" was coined in the 1970s due to the large number of silicon chip manufacturers and innovators in the region. The area has a rich history of technological advancements, dating back to the development of the semiconductor industry in the 1950s and 1960s. Since then, it has become synonymous with cutting-edge technology and innovation, attracting top talent and investment from around the world.Silicon Valley is known for its entrepreneurial culture, with a strong emphasis on collaboration, risk-taking, and rapid growth. The region's success can be attributed to several factors, including its proximity to top universities like Stanford and UC Berkeley, a highly skilled workforce, and a favorable business environment. Additionally, the presence of a large number of angel investors and venture capitalists in the area plays a crucial role in fueling the growth of startups and fostering innovation.The region's thriving ecosystem has led to the creation of numerous successful companies and has inspired other cities and countries to develop their own technology hubs. However, Silicon Valley also faces challenges, such as high living costs, income inequality, and concerns about the environmental impact of the tech industry. Despite these issues, Silicon Valley remains a global leader in technology and innovation, continuing to shape the future of various industries.\",\n",
      "    \"venture capitalists\": \"Venture capitalists (VCs) are professional investors who specialize in providing capital to startups and early-stage companies in exchange for equity ownership or a stake in the business. They play a crucial role in the growth and development of innovative companies, often providing not only funding but also strategic guidance, mentorship, and access to networks.VCs typically invest in high-growth, high-risk ventures with the potential for significant returns on their investment. They are often part of larger venture capital firms, which pool funds from various sources such as wealthy individuals, pension funds, and institutional investors. These firms then allocate the funds to promising startups in their portfolio.When evaluating potential investments, VCs consider factors such as the strength of the founding team, the viability of the business model, the size of the market opportunity, and the potential for a successful exit through an acquisition or initial public offering (IPO). They often invest in multiple startups to diversify their portfolio and mitigate risk, as they expect that only a few of their investments will generate substantial returns, while others may fail or achieve only modest success.Venture capitalists typically invest in multiple funding rounds, starting with seed or early-stage financing and continuing through later-stage rounds as the company grows and requires additional capital. They may also participate in follow-on investments to maintain their ownership stake in the company.However, it is important to note that the interests of venture capitalists may not always align perfectly with those of the founders. VCs are focused on maximizing the overall return on their portfolio, which may lead them to push for aggressive growth strategies or prioritize certain startups over others. Additionally, their risk profiles may differ from those of the founders, as they are more likely to prefer high-risk, high-reward scenarios that can generate significant returns for their portfolio.In summary, venture capitalists are professional investors who provide crucial funding and support to startups and early-stage companies. They play a vital role in fostering innovation and driving economic growth, but their interests and risk profiles may not always align perfectly with those of the founders they invest in.\",\n",
      "    \"Google\": \"Google is a multinational technology company that specializes in internet-related services and products. Founded in 1998 by Larry Page and Sergey Brin while they were Ph.D. students at Stanford University, Google has grown to become one of the world's most valuable and influential companies. The company's primary offering is its search engine, which processes billions of search queries every day, helping users find relevant information on the internet.In addition to its search engine, Google offers a wide range of products and services, including online advertising technologies, cloud computing, software, and hardware. Some of its most popular products include the Android operating system, the Google Chrome web browser, Google Maps, and the Google Assistant, which is an AI-powered virtual assistant that can perform tasks and answer questions for users.Google is also known for its innovative work culture and commitment to research and development. The company invests heavily in cutting-edge technologies such as artificial intelligence, machine learning, and quantum computing. Google's research division, Google AI, focuses on advancing the field of AI and developing new applications for its technology.As part of its commitment to staying connected with the project mentioned in the document, Google may provide resources, expertise, and support to help the project succeed. This could include access to Google's vast array of tools and platforms, as well as collaboration with Google's team of engineers and researchers.In summary, Google is a global technology leader with a diverse range of products and services, a strong focus on innovation, and a commitment to supporting projects that align with its mission and values.\",\n",
      "    \"momentum investors\": \"Momentum investors are a type of investors who focus on the recent performance and trends of stocks or other financial assets to make their investment decisions. They believe that assets that have performed well in the recent past are likely to continue doing so in the future, and vice versa for underperforming assets. This investment strategy is based on the idea that market trends and investor sentiment can drive asset prices beyond their fundamental values, creating opportunities for profit.Momentum investors typically use technical analysis to identify trends and patterns in asset prices, such as moving averages, relative strength, and trend lines. They may also consider factors like trading volume, market sentiment, and news events to gauge the strength of a trend and its potential to continue. By investing in assets with strong positive momentum, these investors aim to capitalize on the continuation of the trend and generate higher returns.However, momentum investing also comes with risks. Trends can reverse suddenly, leading to significant losses for investors who are late to exit their positions. Additionally, momentum investors may overlook the fundamental value of an asset, which could result in overvalued investments that eventually correct to their true value. To mitigate these risks, momentum investors often use stop-loss orders and other risk management techniques to protect their capital.In the context of startups and venture capital, momentum investors may focus on companies that are experiencing rapid growth, gaining market share, or attracting significant attention from the media and industry influencers. These investors may be more willing to take on higher risk in exchange for the potential of outsized returns if the startup continues its upward trajectory. However, as mentioned earlier, large-scale investors may have different risk profiles and motivations compared to founders, which could lead to conflicts of interest and differing opinions on the best course of action for the company.\",\n",
      "    \"stock\": \"Stock refers to the ownership certificates of a particular company, representing a claim on part of the company's assets and earnings. It is a type of financial instrument that signifies an ownership interest in a corporation, entitling the stockholder to a proportion of the company's profits and assets. Stocks are also known as shares or equity.There are two main types of stock: common and preferred. Common stock usually entitles the owner to vote at shareholder meetings and to receive dividends, which are portions of the company's profits paid out to shareholders. Preferred stockholders generally do not have voting rights but have a higher claim on assets and earnings than common stockholders. This means that preferred stockholders receive dividends before common stockholders and have priority in case the company goes bankrupt and its assets are liquidated.Stocks can be bought and sold on stock exchanges, such as the New York Stock Exchange (NYSE) or the NASDAQ. The price of a stock is determined by supply and demand, influenced by factors such as the company's financial performance, market conditions, and investor sentiment.Investing in stocks can be a way to build wealth over time, as the value of the company may increase, leading to capital appreciation of the stock. Additionally, some stocks pay dividends, providing a source of income for investors. However, investing in stocks also comes with risks, as the value of a stock can decrease due to poor company performance or unfavorable market conditions.In the context of startups and venture capital, stocks play a crucial role in the relationship between founders and investors. When investors provide funding to a startup, they usually receive equity or stock in the company in exchange for their investment. This aligns the interests of both parties, as both founders and investors benefit from the growth and success of the company. However, as mentioned in the document, large-scale investors may have different motivations and risk profiles than founders, which can lead to conflicts in decision-making and strategy.\"\n",
      "}\n"
     ]
    }
   ],
   "source": [
    "import json\n",
    "print(json.dumps(keyword_description_dict, indent=4))"
   ]
  }
 ],
 "metadata": {
  "kernelspec": {
   "display_name": "langchain-tut",
   "language": "python",
   "name": "python3"
  },
  "language_info": {
   "codemirror_mode": {
    "name": "ipython",
    "version": 3
   },
   "file_extension": ".py",
   "mimetype": "text/x-python",
   "name": "python",
   "nbconvert_exporter": "python",
   "pygments_lexer": "ipython3",
   "version": "3.11.3"
  },
  "orig_nbformat": 4
 },
 "nbformat": 4,
 "nbformat_minor": 2
}
