{
 "cells": [
  {
   "cell_type": "code",
   "execution_count": 1,
   "metadata": {},
   "outputs": [
    {
     "name": "stderr",
     "output_type": "stream",
     "text": [
      "c:\\Users\\offco\\.conda\\envs\\langchain-tut\\Lib\\site-packages\\tqdm\\auto.py:21: TqdmWarning: IProgress not found. Please update jupyter and ipywidgets. See https://ipywidgets.readthedocs.io/en/stable/user_install.html\n",
      "  from .autonotebook import tqdm as notebook_tqdm\n"
     ]
    },
    {
     "data": {
      "text/plain": [
       "['investors hackers',\n",
       " 'investors startups',\n",
       " 'startup investors',\n",
       " 'hackers invest',\n",
       " 'invest hackers']"
      ]
     },
     "execution_count": 1,
     "metadata": {},
     "output_type": "execute_result"
    }
   ],
   "source": [
    "from keybert import KeyBERT\n",
    "\n",
    "with open('data/guidetoinvestors.txt') as f:\n",
    "    pg_work = f.read()\n",
    "\n",
    "keybert_model = KeyBERT()\n",
    "keywords = keybert_model.extract_keywords(\n",
    "    pg_work, \n",
    "    keyphrase_ngram_range=(1, 2), \n",
    "    stop_words='english'\n",
    ")\n",
    "\n",
    "keywords = [keyword[0] for keyword in keywords]\n",
    "keywords"
   ]
  },
  {
   "cell_type": "code",
   "execution_count": null,
   "metadata": {},
   "outputs": [],
   "source": [
    "OPENAI_API_KEY = \"OPENAI-API-KEY\""
   ]
  },
  {
   "cell_type": "code",
   "execution_count": 3,
   "metadata": {},
   "outputs": [
    {
     "name": "stderr",
     "output_type": "stream",
     "text": [
      "c:\\Users\\offco\\.conda\\envs\\langchain-tut\\Lib\\site-packages\\langchain\\llms\\openai.py:169: UserWarning: You are trying to use a chat model. This way of initializing it is no longer supported. Instead, please use: `from langchain.chat_models import ChatOpenAI`\n",
      "  warnings.warn(\n",
      "c:\\Users\\offco\\.conda\\envs\\langchain-tut\\Lib\\site-packages\\langchain\\llms\\openai.py:696: UserWarning: You are trying to use a chat model. This way of initializing it is no longer supported. Instead, please use: `from langchain.chat_models import ChatOpenAI`\n",
      "  warnings.warn(\n"
     ]
    },
    {
     "name": "stdout",
     "output_type": "stream",
     "text": [
      "\n",
      "\n",
      "\u001b[1m> Entering new SequentialChain chain...\u001b[0m\n",
      "\n",
      "\u001b[1m> Finished chain.\u001b[0m\n",
      "['angel investors', 'startup hub', 'Silicon Valley', 'venture capitalists', 'Google', 'momentum investors', 'stock']\n"
     ]
    }
   ],
   "source": [
    "from langchain.llms import OpenAI\n",
    "from langchain.chains import LLMChain\n",
    "from langchain.prompts import PromptTemplate\n",
    "from langchain.text_splitter import RecursiveCharacterTextSplitter\n",
    "from langchain.docstore.document import Document\n",
    "from langchain.chains.summarize import load_summarize_chain\n",
    "from langchain.chains import SequentialChain\n",
    "from langchain.memory import SimpleMemory\n",
    "\n",
    "### SUMMARIZE DOCUMENT\n",
    "llm_summarizer = OpenAI(temperature=0, openai_api_key=OPENAI_API_KEY)\n",
    "text_splitter = RecursiveCharacterTextSplitter(chunk_size=2000, chunk_overlap=0)\n",
    "\n",
    "texts = text_splitter.split_text(pg_work)\n",
    "docs = [Document(page_content=t) for t in texts[:3]]\n",
    "\n",
    "summarizer_chain = load_summarize_chain(\n",
    "                    llm_summarizer, \n",
    "                    chain_type=\"map_reduce\", \n",
    "                    output_key=\"summary\")\n",
    "\n",
    "### REFORMAT KEYWORDS\n",
    "OPENAI_MODELS = [\"gpt-4\", \"gpt-3.5-turbo\"]\n",
    "llm_reformatter = OpenAI(temperature=0, model_name=OPENAI_MODELS[0], openai_api_key=OPENAI_API_KEY)\n",
    "\n",
    "PROMPT = PromptTemplate(\n",
    "    input_variables=[\"keywords\", \"summary\"],\n",
    "    template = \"Given a list of keywords: {keywords}, \\\n",
    "        filter out the similar or overlapping keywords, \\\n",
    "        reformat the keywords to match the context of the text: {summary} \\\n",
    "        Feel free to add any additional keywords that you think are relevant. \\\n",
    "        Do note that the extracted keywords will be later used for key concept note and summary purposes. \\\n",
    "        Therefore, only include the necessary keywords. \\\n",
    "        Each keyword should be a SINGLE WORD or a VALID PHRASE. \\\n",
    "        DO NOT include keywords containing adjectives or any form of decorative words. \\\n",
    "        TAKE OUT adjectives. \\\n",
    "        Each keyword should be a valid word or a phrase, that fits context. \\\n",
    "        If the keyword contains more than a single word, say: \\\n",
    "        ''' \\\n",
    "        wordA wordB \\\n",
    "        ''' \\\n",
    "        other keywords sharing similar combinations, say: \\\n",
    "        ''' \\\n",
    "        wordB word A \\\n",
    "        ''' \\\n",
    "        should be filtered out. \\\n",
    "        Return the keywords in a list. \\\n",
    "        Example: \\\n",
    "        ''' \\\n",
    "        ['keyword1', 'keyword2', 'keyword3' ... and so on] \\\n",
    "        ''' \\\n",
    "        \"\n",
    ")\n",
    "\n",
    "reformatter_chain = LLMChain(llm=llm_reformatter, prompt=PROMPT)\n",
    "\n",
    "### MAIN CHAIN\n",
    "main_chain = SequentialChain(\n",
    "    memory=SimpleMemory(memories={\"keywords\": keywords}),\n",
    "    chains = [summarizer_chain, reformatter_chain],\n",
    "    input_variables=[\"input_documents\"],\n",
    "    verbose=True)\n",
    "\n",
    "response = main_chain.run({\"input_documents\": docs})\n",
    "print(response)"
   ]
  },
  {
   "cell_type": "code",
   "execution_count": 4,
   "metadata": {},
   "outputs": [
    {
     "name": "stdout",
     "output_type": "stream",
     "text": [
      "['angel investors', 'startup hub', 'Silicon Valley', 'venture capitalists', 'Google', 'momentum investors', 'stock']\n"
     ]
    }
   ],
   "source": [
    "import ast\n",
    "keywords = ast.literal_eval(response)\n",
    "print(keywords)"
   ]
  }
 ],
 "metadata": {
  "kernelspec": {
   "display_name": "langchain-tut",
   "language": "python",
   "name": "python3"
  },
  "language_info": {
   "codemirror_mode": {
    "name": "ipython",
    "version": 3
   },
   "file_extension": ".py",
   "mimetype": "text/x-python",
   "name": "python",
   "nbconvert_exporter": "python",
   "pygments_lexer": "ipython3",
   "version": "3.11.3"
  },
  "orig_nbformat": 4
 },
 "nbformat": 4,
 "nbformat_minor": 2
}
